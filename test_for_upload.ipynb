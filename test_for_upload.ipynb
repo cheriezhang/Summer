{
 "cells": [
  {
   "cell_type": "code",
   "execution_count": null,
   "metadata": {
    "collapsed": true
   },
   "outputs": [],
   "source": [
    "%matplotlib inline\n",
    "import numpy as np\n",
    "import pandas as pd\n",
    "import matplotlib as mpl\n",
    "import matplotlib.pyplot as plt\n",
    "import seaborn as sns\n",
    "\n",
    "# anscombe示例\n",
    "anscombe = sns.load_dataset(\"anscombe\")\n",
    "# print anscombe\n",
    "# 只取dataset为\"I\"的数据,可简单查询\n",
    "# sns.lmplot(x=\"x\", y=\"y\", data=anscombe.query(\"dataset=='I'\"), ci=None, scatter_kws={\"s\": 100})  # s:100是点的大小\n",
    "# sns.lmplot(x=\"x\", y=\"y\", data=anscombe.query(\"dataset=='II'\"), ci=None, order=2, scatter_kws={\"s\": 80})  # order是几阶的意思\n",
    "# sns.lmplot(x=\"x\", y=\"y\", data=anscombe.query(\"dataset=='III'\"), robust=False, ci=None,\n",
    "#           scatter_kws={\"s\": 80})  # robust异常值不容错\n",
    "sns.lmplot(x=\"x\", y=\"y\", data=anscombe.query(\"dataset=='III'\"), robust=True, ci=None,\n",
    "           scatter_kws={\"s\": 80})   # robust异常值容错"
   ]
  },
  {
   "cell_type": "code",
   "execution_count": null,
   "metadata": {},
   "outputs": [],
   "source": [
    ""
   ]
  }
 ],
 "metadata": {
  "kernelspec": {
   "display_name": "Python 2",
   "language": "python",
   "name": "python2"
  },
  "language_info": {
   "codemirror_mode": {
    "name": "ipython",
    "version": 2.0
   },
   "file_extension": ".py",
   "mimetype": "text/x-python",
   "name": "python",
   "nbconvert_exporter": "python",
   "pygments_lexer": "ipython2",
   "version": "2.7.6"
  }
 },
 "nbformat": 4,
 "nbformat_minor": 0
}